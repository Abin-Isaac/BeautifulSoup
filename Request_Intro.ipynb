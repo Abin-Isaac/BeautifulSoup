{
  "nbformat": 4,
  "nbformat_minor": 0,
  "metadata": {
    "colab": {
      "name": "Request_Intro.ipynb",
      "private_outputs": true,
      "provenance": []
    },
    "kernelspec": {
      "name": "python3",
      "display_name": "Python 3"
    },
    "language_info": {
      "name": "python"
    }
  },
  "cells": [
    {
      "cell_type": "markdown",
      "metadata": {
        "id": "CWmBWrBeZTlc"
      },
      "source": [
        "# Use get method to get response from an HTML page"
      ]
    },
    {
      "cell_type": "code",
      "metadata": {
        "id": "e7siKYh-Zkhr"
      },
      "source": [
        "import requests as rs"
      ],
      "execution_count": null,
      "outputs": []
    },
    {
      "cell_type": "code",
      "metadata": {
        "id": "NCn9j6LgZfw3"
      },
      "source": [
        "webpage_response = rs.get(\"https://content.codecademy.com/courses/beautifulsoup/shellter.html\")\n",
        "\n",
        "webpage = webpage_response.content\n",
        "\n",
        "#print(type(webpage_response)) # Response type\n",
        "#print(type(webpage))  # bytes type\n",
        "#print(type(webpage_response.text)) # string type\n",
        "\n",
        "print(webpage)\n",
        "\n",
        "print(webpage_response.text)\n",
        "\n"
      ],
      "execution_count": null,
      "outputs": []
    }
  ]
}